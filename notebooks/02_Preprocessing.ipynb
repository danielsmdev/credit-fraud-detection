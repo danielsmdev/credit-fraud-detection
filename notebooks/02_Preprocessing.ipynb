{
 "cells": [
  {
   "cell_type": "markdown",
   "metadata": {},
   "source": [
    "# Preprocesamiento de Datos para Detección de Fraude\n",
    "\n",
    "Este notebook realiza el preprocesamiento de los datos de transacciones de tarjetas de crédito para prepararlos para el modelado.\n",
    "\n",
    "## Contenido\n",
    "\n",
    "1. Carga de datos\n",
    "2. Limpieza de datos\n",
    "3. Transformación de características\n",
    "4. Manejo de outliers\n",
    "5. División de datos en conjuntos de entrenamiento y prueba\n",
    "6. Balanceo de clases\n",
    "7. Escalado de características\n",
    "8. Guardado de datos procesados"
   ]
  },
  {
   "cell_type": "code",
   "execution_count": 1,
   "metadata": {},
   "outputs": [],
   "source": [
    "# Importar librerías necesarias\n",
    "import pandas as pd\n",
    "import numpy as np\n",
    "import matplotlib.pyplot as plt\n",
    "import seaborn as sns\n",
    "import warnings\n",
    "import os\n",
    "import sys\n",
    "from sklearn.model_selection import train_test_split\n",
    "from sklearn.preprocessing import StandardScaler, RobustScaler\n",
    "from imblearn.over_sampling import SMOTE\n",
    "\n",
    "# Configurar visualización\n",
    "plt.style.use('seaborn-v0_8-whitegrid')\n",
    "plt.rcParams['figure.figsize'] = (12, 8)\n",
    "warnings.filterwarnings('ignore')\n",
    "\n",
    "# Añadir directorio raíz al path para importar módulos personalizados\n",
    "sys.path.append('..')\n",
    "\n",
    "# Importar funciones personalizadas\n",
    "from src.config import (\n",
    "    RAW_DATA_FILE, PROCESSED_DATA_DIR, RANDOM_STATE,\n",
    "    X_TRAIN_FILE, X_TEST_FILE, Y_TRAIN_FILE, Y_TEST_FILE, SCALER_FILE\n",
    ")\n",
    "from src.data_prep import (\n",
    "    load_data, check_data_quality, handle_missing_values,\n",
    "    transform_features, handle_outliers, split_data,\n",
    "    balance_classes, scale_features, save_processed_data\n",
    ")\n",
    "from src.utils import timer_decorator"
   ]
  },
  {
   "cell_type": "markdown",
   "metadata": {},
   "source": [
    "## 1. Carga de datos"
   ]
  },
  {
   "cell_type": "code",
   "execution_count": 2,
   "metadata": {},
   "outputs": [
    {
     "name": "stdout",
     "output_type": "stream",
     "text": [
      "Cargando datos...\n",
      "Cargando datos desde c:\\Projects\\Credit_fraud\\data\\raw\\creditcard.csv...\n",
      "Datos cargados: 284807 filas y 31 columnas.\n",
      "Función load_data ejecutada en 1.69 segundos\n",
      "\n",
      "Dimensiones del dataset: (284807, 31)\n",
      "Columnas: ['Time', 'V1', 'V2', 'V3', 'V4', 'V5', 'V6', 'V7', 'V8', 'V9', 'V10', 'V11', 'V12', 'V13', 'V14', 'V15', 'V16', 'V17', 'V18', 'V19', 'V20', 'V21', 'V22', 'V23', 'V24', 'V25', 'V26', 'V27', 'V28', 'Amount', 'Class']\n",
      "Tipos de datos:\n",
      "Time      float64\n",
      "V1        float64\n",
      "V2        float64\n",
      "V3        float64\n",
      "V4        float64\n",
      "V5        float64\n",
      "V6        float64\n",
      "V7        float64\n",
      "V8        float64\n",
      "V9        float64\n",
      "V10       float64\n",
      "V11       float64\n",
      "V12       float64\n",
      "V13       float64\n",
      "V14       float64\n",
      "V15       float64\n",
      "V16       float64\n",
      "V17       float64\n",
      "V18       float64\n",
      "V19       float64\n",
      "V20       float64\n",
      "V21       float64\n",
      "V22       float64\n",
      "V23       float64\n",
      "V24       float64\n",
      "V25       float64\n",
      "V26       float64\n",
      "V27       float64\n",
      "V28       float64\n",
      "Amount    float64\n",
      "Class       int64\n",
      "dtype: object\n"
     ]
    },
    {
     "data": {
      "application/vnd.microsoft.datawrangler.viewer.v0+json": {
       "columns": [
        {
         "name": "index",
         "rawType": "int64",
         "type": "integer"
        },
        {
         "name": "Time",
         "rawType": "float64",
         "type": "float"
        },
        {
         "name": "V1",
         "rawType": "float64",
         "type": "float"
        },
        {
         "name": "V2",
         "rawType": "float64",
         "type": "float"
        },
        {
         "name": "V3",
         "rawType": "float64",
         "type": "float"
        },
        {
         "name": "V4",
         "rawType": "float64",
         "type": "float"
        },
        {
         "name": "V5",
         "rawType": "float64",
         "type": "float"
        },
        {
         "name": "V6",
         "rawType": "float64",
         "type": "float"
        },
        {
         "name": "V7",
         "rawType": "float64",
         "type": "float"
        },
        {
         "name": "V8",
         "rawType": "float64",
         "type": "float"
        },
        {
         "name": "V9",
         "rawType": "float64",
         "type": "float"
        },
        {
         "name": "V10",
         "rawType": "float64",
         "type": "float"
        },
        {
         "name": "V11",
         "rawType": "float64",
         "type": "float"
        },
        {
         "name": "V12",
         "rawType": "float64",
         "type": "float"
        },
        {
         "name": "V13",
         "rawType": "float64",
         "type": "float"
        },
        {
         "name": "V14",
         "rawType": "float64",
         "type": "float"
        },
        {
         "name": "V15",
         "rawType": "float64",
         "type": "float"
        },
        {
         "name": "V16",
         "rawType": "float64",
         "type": "float"
        },
        {
         "name": "V17",
         "rawType": "float64",
         "type": "float"
        },
        {
         "name": "V18",
         "rawType": "float64",
         "type": "float"
        },
        {
         "name": "V19",
         "rawType": "float64",
         "type": "float"
        },
        {
         "name": "V20",
         "rawType": "float64",
         "type": "float"
        },
        {
         "name": "V21",
         "rawType": "float64",
         "type": "float"
        },
        {
         "name": "V22",
         "rawType": "float64",
         "type": "float"
        },
        {
         "name": "V23",
         "rawType": "float64",
         "type": "float"
        },
        {
         "name": "V24",
         "rawType": "float64",
         "type": "float"
        },
        {
         "name": "V25",
         "rawType": "float64",
         "type": "float"
        },
        {
         "name": "V26",
         "rawType": "float64",
         "type": "float"
        },
        {
         "name": "V27",
         "rawType": "float64",
         "type": "float"
        },
        {
         "name": "V28",
         "rawType": "float64",
         "type": "float"
        },
        {
         "name": "Amount",
         "rawType": "float64",
         "type": "float"
        },
        {
         "name": "Class",
         "rawType": "int64",
         "type": "integer"
        }
       ],
       "conversionMethod": "pd.DataFrame",
       "ref": "5f22216b-d0d6-4baa-89cc-eec03052e05b",
       "rows": [
        [
         "0",
         "0.0",
         "-1.3598071336738",
         "-0.0727811733098497",
         "2.53634673796914",
         "1.37815522427443",
         "-0.338320769942518",
         "0.462387777762292",
         "0.239598554061257",
         "0.0986979012610507",
         "0.363786969611213",
         "0.0907941719789316",
         "-0.551599533260813",
         "-0.617800855762348",
         "-0.991389847235408",
         "-0.311169353699879",
         "1.46817697209427",
         "-0.470400525259478",
         "0.207971241929242",
         "0.0257905801985591",
         "0.403992960255733",
         "0.251412098239705",
         "-0.018306777944153",
         "0.277837575558899",
         "-0.110473910188767",
         "0.0669280749146731",
         "0.128539358273528",
         "-0.189114843888824",
         "0.133558376740387",
         "-0.0210530534538215",
         "149.62",
         "0"
        ],
        [
         "1",
         "0.0",
         "1.19185711131486",
         "0.26615071205963",
         "0.16648011335321",
         "0.448154078460911",
         "0.0600176492822243",
         "-0.0823608088155687",
         "-0.0788029833323113",
         "0.0851016549148104",
         "-0.255425128109186",
         "-0.166974414004614",
         "1.61272666105479",
         "1.06523531137287",
         "0.48909501589608",
         "-0.143772296441519",
         "0.635558093258208",
         "0.463917041022171",
         "-0.114804663102346",
         "-0.183361270123994",
         "-0.145783041325259",
         "-0.0690831352230203",
         "-0.225775248033138",
         "-0.638671952771851",
         "0.101288021253234",
         "-0.339846475529127",
         "0.167170404418143",
         "0.125894532368176",
         "-0.0089830991432281",
         "0.0147241691924927",
         "2.69",
         "0"
        ],
        [
         "2",
         "1.0",
         "-1.35835406159823",
         "-1.34016307473609",
         "1.77320934263119",
         "0.379779593034328",
         "-0.503198133318193",
         "1.80049938079263",
         "0.791460956450422",
         "0.247675786588991",
         "-1.51465432260583",
         "0.207642865216696",
         "0.624501459424895",
         "0.066083685268831",
         "0.717292731410831",
         "-0.165945922763554",
         "2.34586494901581",
         "-2.89008319444231",
         "1.10996937869599",
         "-0.121359313195888",
         "-2.26185709530414",
         "0.524979725224404",
         "0.247998153469754",
         "0.771679401917229",
         "0.909412262347719",
         "-0.689280956490685",
         "-0.327641833735251",
         "-0.139096571514147",
         "-0.0553527940384261",
         "-0.0597518405929204",
         "378.66",
         "0"
        ],
        [
         "3",
         "1.0",
         "-0.966271711572087",
         "-0.185226008082898",
         "1.79299333957872",
         "-0.863291275036453",
         "-0.0103088796030823",
         "1.24720316752486",
         "0.23760893977178",
         "0.377435874652262",
         "-1.38702406270197",
         "-0.0549519224713749",
         "-0.226487263835401",
         "0.178228225877303",
         "0.507756869957169",
         "-0.28792374549456",
         "-0.631418117709045",
         "-1.0596472454325",
         "-0.684092786345479",
         "1.96577500349538",
         "-1.2326219700892",
         "-0.208037781160366",
         "-0.108300452035545",
         "0.0052735967825345",
         "-0.190320518742841",
         "-1.17557533186321",
         "0.647376034602038",
         "-0.221928844458407",
         "0.0627228487293033",
         "0.0614576285006353",
         "123.5",
         "0"
        ],
        [
         "4",
         "2.0",
         "-1.15823309349523",
         "0.877736754848451",
         "1.548717846511",
         "0.403033933955121",
         "-0.407193377311653",
         "0.0959214624684256",
         "0.592940745385545",
         "-0.270532677192282",
         "0.817739308235294",
         "0.753074431976354",
         "-0.822842877946363",
         "0.53819555014995",
         "1.3458515932154",
         "-1.11966983471731",
         "0.175121130008994",
         "-0.451449182813529",
         "-0.237033239362776",
         "-0.0381947870352842",
         "0.803486924960175",
         "0.408542360392758",
         "-0.0094306971323291",
         "0.79827849458971",
         "-0.137458079619063",
         "0.141266983824769",
         "-0.206009587619756",
         "0.502292224181569",
         "0.219422229513348",
         "0.215153147499206",
         "69.99",
         "0"
        ]
       ],
       "shape": {
        "columns": 31,
        "rows": 5
       }
      },
      "text/html": [
       "<div>\n",
       "<style scoped>\n",
       "    .dataframe tbody tr th:only-of-type {\n",
       "        vertical-align: middle;\n",
       "    }\n",
       "\n",
       "    .dataframe tbody tr th {\n",
       "        vertical-align: top;\n",
       "    }\n",
       "\n",
       "    .dataframe thead th {\n",
       "        text-align: right;\n",
       "    }\n",
       "</style>\n",
       "<table border=\"1\" class=\"dataframe\">\n",
       "  <thead>\n",
       "    <tr style=\"text-align: right;\">\n",
       "      <th></th>\n",
       "      <th>Time</th>\n",
       "      <th>V1</th>\n",
       "      <th>V2</th>\n",
       "      <th>V3</th>\n",
       "      <th>V4</th>\n",
       "      <th>V5</th>\n",
       "      <th>V6</th>\n",
       "      <th>V7</th>\n",
       "      <th>V8</th>\n",
       "      <th>V9</th>\n",
       "      <th>...</th>\n",
       "      <th>V21</th>\n",
       "      <th>V22</th>\n",
       "      <th>V23</th>\n",
       "      <th>V24</th>\n",
       "      <th>V25</th>\n",
       "      <th>V26</th>\n",
       "      <th>V27</th>\n",
       "      <th>V28</th>\n",
       "      <th>Amount</th>\n",
       "      <th>Class</th>\n",
       "    </tr>\n",
       "  </thead>\n",
       "  <tbody>\n",
       "    <tr>\n",
       "      <th>0</th>\n",
       "      <td>0.0</td>\n",
       "      <td>-1.359807</td>\n",
       "      <td>-0.072781</td>\n",
       "      <td>2.536347</td>\n",
       "      <td>1.378155</td>\n",
       "      <td>-0.338321</td>\n",
       "      <td>0.462388</td>\n",
       "      <td>0.239599</td>\n",
       "      <td>0.098698</td>\n",
       "      <td>0.363787</td>\n",
       "      <td>...</td>\n",
       "      <td>-0.018307</td>\n",
       "      <td>0.277838</td>\n",
       "      <td>-0.110474</td>\n",
       "      <td>0.066928</td>\n",
       "      <td>0.128539</td>\n",
       "      <td>-0.189115</td>\n",
       "      <td>0.133558</td>\n",
       "      <td>-0.021053</td>\n",
       "      <td>149.62</td>\n",
       "      <td>0</td>\n",
       "    </tr>\n",
       "    <tr>\n",
       "      <th>1</th>\n",
       "      <td>0.0</td>\n",
       "      <td>1.191857</td>\n",
       "      <td>0.266151</td>\n",
       "      <td>0.166480</td>\n",
       "      <td>0.448154</td>\n",
       "      <td>0.060018</td>\n",
       "      <td>-0.082361</td>\n",
       "      <td>-0.078803</td>\n",
       "      <td>0.085102</td>\n",
       "      <td>-0.255425</td>\n",
       "      <td>...</td>\n",
       "      <td>-0.225775</td>\n",
       "      <td>-0.638672</td>\n",
       "      <td>0.101288</td>\n",
       "      <td>-0.339846</td>\n",
       "      <td>0.167170</td>\n",
       "      <td>0.125895</td>\n",
       "      <td>-0.008983</td>\n",
       "      <td>0.014724</td>\n",
       "      <td>2.69</td>\n",
       "      <td>0</td>\n",
       "    </tr>\n",
       "    <tr>\n",
       "      <th>2</th>\n",
       "      <td>1.0</td>\n",
       "      <td>-1.358354</td>\n",
       "      <td>-1.340163</td>\n",
       "      <td>1.773209</td>\n",
       "      <td>0.379780</td>\n",
       "      <td>-0.503198</td>\n",
       "      <td>1.800499</td>\n",
       "      <td>0.791461</td>\n",
       "      <td>0.247676</td>\n",
       "      <td>-1.514654</td>\n",
       "      <td>...</td>\n",
       "      <td>0.247998</td>\n",
       "      <td>0.771679</td>\n",
       "      <td>0.909412</td>\n",
       "      <td>-0.689281</td>\n",
       "      <td>-0.327642</td>\n",
       "      <td>-0.139097</td>\n",
       "      <td>-0.055353</td>\n",
       "      <td>-0.059752</td>\n",
       "      <td>378.66</td>\n",
       "      <td>0</td>\n",
       "    </tr>\n",
       "    <tr>\n",
       "      <th>3</th>\n",
       "      <td>1.0</td>\n",
       "      <td>-0.966272</td>\n",
       "      <td>-0.185226</td>\n",
       "      <td>1.792993</td>\n",
       "      <td>-0.863291</td>\n",
       "      <td>-0.010309</td>\n",
       "      <td>1.247203</td>\n",
       "      <td>0.237609</td>\n",
       "      <td>0.377436</td>\n",
       "      <td>-1.387024</td>\n",
       "      <td>...</td>\n",
       "      <td>-0.108300</td>\n",
       "      <td>0.005274</td>\n",
       "      <td>-0.190321</td>\n",
       "      <td>-1.175575</td>\n",
       "      <td>0.647376</td>\n",
       "      <td>-0.221929</td>\n",
       "      <td>0.062723</td>\n",
       "      <td>0.061458</td>\n",
       "      <td>123.50</td>\n",
       "      <td>0</td>\n",
       "    </tr>\n",
       "    <tr>\n",
       "      <th>4</th>\n",
       "      <td>2.0</td>\n",
       "      <td>-1.158233</td>\n",
       "      <td>0.877737</td>\n",
       "      <td>1.548718</td>\n",
       "      <td>0.403034</td>\n",
       "      <td>-0.407193</td>\n",
       "      <td>0.095921</td>\n",
       "      <td>0.592941</td>\n",
       "      <td>-0.270533</td>\n",
       "      <td>0.817739</td>\n",
       "      <td>...</td>\n",
       "      <td>-0.009431</td>\n",
       "      <td>0.798278</td>\n",
       "      <td>-0.137458</td>\n",
       "      <td>0.141267</td>\n",
       "      <td>-0.206010</td>\n",
       "      <td>0.502292</td>\n",
       "      <td>0.219422</td>\n",
       "      <td>0.215153</td>\n",
       "      <td>69.99</td>\n",
       "      <td>0</td>\n",
       "    </tr>\n",
       "  </tbody>\n",
       "</table>\n",
       "<p>5 rows × 31 columns</p>\n",
       "</div>"
      ],
      "text/plain": [
       "   Time        V1        V2        V3        V4        V5        V6        V7  \\\n",
       "0   0.0 -1.359807 -0.072781  2.536347  1.378155 -0.338321  0.462388  0.239599   \n",
       "1   0.0  1.191857  0.266151  0.166480  0.448154  0.060018 -0.082361 -0.078803   \n",
       "2   1.0 -1.358354 -1.340163  1.773209  0.379780 -0.503198  1.800499  0.791461   \n",
       "3   1.0 -0.966272 -0.185226  1.792993 -0.863291 -0.010309  1.247203  0.237609   \n",
       "4   2.0 -1.158233  0.877737  1.548718  0.403034 -0.407193  0.095921  0.592941   \n",
       "\n",
       "         V8        V9  ...       V21       V22       V23       V24       V25  \\\n",
       "0  0.098698  0.363787  ... -0.018307  0.277838 -0.110474  0.066928  0.128539   \n",
       "1  0.085102 -0.255425  ... -0.225775 -0.638672  0.101288 -0.339846  0.167170   \n",
       "2  0.247676 -1.514654  ...  0.247998  0.771679  0.909412 -0.689281 -0.327642   \n",
       "3  0.377436 -1.387024  ... -0.108300  0.005274 -0.190321 -1.175575  0.647376   \n",
       "4 -0.270533  0.817739  ... -0.009431  0.798278 -0.137458  0.141267 -0.206010   \n",
       "\n",
       "        V26       V27       V28  Amount  Class  \n",
       "0 -0.189115  0.133558 -0.021053  149.62      0  \n",
       "1  0.125895 -0.008983  0.014724    2.69      0  \n",
       "2 -0.139097 -0.055353 -0.059752  378.66      0  \n",
       "3 -0.221929  0.062723  0.061458  123.50      0  \n",
       "4  0.502292  0.219422  0.215153   69.99      0  \n",
       "\n",
       "[5 rows x 31 columns]"
      ]
     },
     "execution_count": 2,
     "metadata": {},
     "output_type": "execute_result"
    }
   ],
   "source": [
    "# Cargar datos\n",
    "print(\"Cargando datos...\")\n",
    "df = load_data(RAW_DATA_FILE)\n",
    "\n",
    "# Mostrar información básica\n",
    "print(f\"\\nDimensiones del dataset: {df.shape}\")\n",
    "print(f\"Columnas: {df.columns.tolist()}\")\n",
    "print(f\"Tipos de datos:\\n{df.dtypes}\")\n",
    "\n",
    "# Mostrar las primeras filas\n",
    "df.head()"
   ]
  },
  {
   "cell_type": "markdown",
   "metadata": {},
   "source": [
    "## 2. Limpieza de datos"
   ]
  },
  {
   "cell_type": "code",
   "execution_count": 3,
   "metadata": {},
   "outputs": [
    {
     "name": "stdout",
     "output_type": "stream",
     "text": [
      "Verificando calidad de los datos...\n",
      "Verificando calidad de los datos...\n",
      "Valores nulos: 0\n",
      "Columnas con valores nulos: []\n",
      "Filas duplicadas: 1081\n",
      "Valores infinitos: 0\n",
      "Distribución de clases:\n",
      "  Clase 0: 99.83%\n",
      "  Clase 1: 0.17%\n",
      "Función check_data_quality ejecutada en 0.95 segundos\n",
      "\n",
      "Valores nulos: 0\n",
      "Valores duplicados: 1081\n",
      "Valores infinitos: 0\n"
     ]
    }
   ],
   "source": [
    "# Verificar calidad de los datos\n",
    "print(\"Verificando calidad de los datos...\")\n",
    "quality_report = check_data_quality(df)\n",
    "\n",
    "# Mostrar resumen de calidad\n",
    "print(f\"\\nValores nulos: {quality_report['null_values']}\")\n",
    "print(f\"Valores duplicados: {quality_report['duplicate_rows']}\")\n",
    "print(f\"Valores infinitos: {quality_report['infinite_values']}\")"
   ]
  },
  {
   "cell_type": "code",
   "execution_count": 4,
   "metadata": {},
   "outputs": [
    {
     "name": "stdout",
     "output_type": "stream",
     "text": [
      "No hay valores faltantes o infinitos que manejar.\n",
      "Eliminando filas duplicadas...\n",
      "Dimensiones después de eliminar duplicados: (283726, 31)\n"
     ]
    }
   ],
   "source": [
    "# Manejar valores faltantes si existen\n",
    "if quality_report['null_values'] > 0 or quality_report['infinite_values'] > 0:\n",
    "    print(\"Manejando valores faltantes e infinitos...\")\n",
    "    df = handle_missing_values(df)\n",
    "    print(f\"Dimensiones después de manejar valores faltantes: {df.shape}\")\n",
    "else:\n",
    "    print(\"No hay valores faltantes o infinitos que manejar.\")\n",
    "\n",
    "# Eliminar duplicados si existen\n",
    "if quality_report['duplicate_rows'] > 0:\n",
    "    print(\"Eliminando filas duplicadas...\")\n",
    "    df = df.drop_duplicates()\n",
    "    print(f\"Dimensiones después de eliminar duplicados: {df.shape}\")\n",
    "else:\n",
    "    print(\"No hay filas duplicadas que eliminar.\")"
   ]
  },
  {
   "cell_type": "markdown",
   "metadata": {},
   "source": [
    "## 3. Transformación de características"
   ]
  },
  {
   "cell_type": "code",
   "execution_count": 5,
   "metadata": {},
   "outputs": [
    {
     "name": "stdout",
     "output_type": "stream",
     "text": [
      "Transformando características...\n",
      "Transformando características...\n",
      "Transformada Amount con logaritmo (Amount_Log)\n",
      "Transformada Time a hora del día (Hour)\n",
      "Creada variable categórica para período del día (Day_Period)\n",
      "Creadas características de interacción (V1_V2, V1_V3, V2_V3)\n",
      "Creadas características polinómicas (V14_Sq, V17_Sq)\n",
      "Creada característica de distancia en espacio PCA (PCA_Dist)\n",
      "Creadas variables dummy para Day_Period\n",
      "Total de nuevas características creadas: 13\n",
      "Nuevas características: {'Hour', 'Period_Noche', 'Period_Mañana', 'V2_V3', 'Day_Period', 'Period_Tarde', 'V1_V2', 'PCA_Dist', 'V17_Sq', 'Period_Madrugada', 'Amount_Log', 'V14_Sq', 'V1_V3'}\n",
      "Función transform_features ejecutada en 0.13 segundos\n",
      "\n",
      "Nuevas características creadas: {'Hour', 'Period_Noche', 'Period_Mañana', 'V2_V3', 'Day_Period', 'Period_Tarde', 'V1_V2', 'PCA_Dist', 'V17_Sq', 'Period_Madrugada', 'Amount_Log', 'V14_Sq', 'V1_V3'}\n"
     ]
    },
    {
     "data": {
      "application/vnd.microsoft.datawrangler.viewer.v0+json": {
       "columns": [
        {
         "name": "index",
         "rawType": "int64",
         "type": "integer"
        },
        {
         "name": "Time",
         "rawType": "float64",
         "type": "float"
        },
        {
         "name": "V1",
         "rawType": "float64",
         "type": "float"
        },
        {
         "name": "V2",
         "rawType": "float64",
         "type": "float"
        },
        {
         "name": "V3",
         "rawType": "float64",
         "type": "float"
        },
        {
         "name": "V4",
         "rawType": "float64",
         "type": "float"
        },
        {
         "name": "V5",
         "rawType": "float64",
         "type": "float"
        },
        {
         "name": "V6",
         "rawType": "float64",
         "type": "float"
        },
        {
         "name": "V7",
         "rawType": "float64",
         "type": "float"
        },
        {
         "name": "V8",
         "rawType": "float64",
         "type": "float"
        },
        {
         "name": "V9",
         "rawType": "float64",
         "type": "float"
        },
        {
         "name": "V10",
         "rawType": "float64",
         "type": "float"
        },
        {
         "name": "V11",
         "rawType": "float64",
         "type": "float"
        },
        {
         "name": "V12",
         "rawType": "float64",
         "type": "float"
        },
        {
         "name": "V13",
         "rawType": "float64",
         "type": "float"
        },
        {
         "name": "V14",
         "rawType": "float64",
         "type": "float"
        },
        {
         "name": "V15",
         "rawType": "float64",
         "type": "float"
        },
        {
         "name": "V16",
         "rawType": "float64",
         "type": "float"
        },
        {
         "name": "V17",
         "rawType": "float64",
         "type": "float"
        },
        {
         "name": "V18",
         "rawType": "float64",
         "type": "float"
        },
        {
         "name": "V19",
         "rawType": "float64",
         "type": "float"
        },
        {
         "name": "V20",
         "rawType": "float64",
         "type": "float"
        },
        {
         "name": "V21",
         "rawType": "float64",
         "type": "float"
        },
        {
         "name": "V22",
         "rawType": "float64",
         "type": "float"
        },
        {
         "name": "V23",
         "rawType": "float64",
         "type": "float"
        },
        {
         "name": "V24",
         "rawType": "float64",
         "type": "float"
        },
        {
         "name": "V25",
         "rawType": "float64",
         "type": "float"
        },
        {
         "name": "V26",
         "rawType": "float64",
         "type": "float"
        },
        {
         "name": "V27",
         "rawType": "float64",
         "type": "float"
        },
        {
         "name": "V28",
         "rawType": "float64",
         "type": "float"
        },
        {
         "name": "Amount",
         "rawType": "float64",
         "type": "float"
        },
        {
         "name": "Class",
         "rawType": "int64",
         "type": "integer"
        },
        {
         "name": "Amount_Log",
         "rawType": "float64",
         "type": "float"
        },
        {
         "name": "Hour",
         "rawType": "float64",
         "type": "float"
        },
        {
         "name": "Day_Period",
         "rawType": "category",
         "type": "unknown"
        },
        {
         "name": "V1_V2",
         "rawType": "float64",
         "type": "float"
        },
        {
         "name": "V1_V3",
         "rawType": "float64",
         "type": "float"
        },
        {
         "name": "V2_V3",
         "rawType": "float64",
         "type": "float"
        },
        {
         "name": "V14_Sq",
         "rawType": "float64",
         "type": "float"
        },
        {
         "name": "V17_Sq",
         "rawType": "float64",
         "type": "float"
        },
        {
         "name": "PCA_Dist",
         "rawType": "float64",
         "type": "float"
        },
        {
         "name": "Period_Madrugada",
         "rawType": "bool",
         "type": "boolean"
        },
        {
         "name": "Period_Mañana",
         "rawType": "bool",
         "type": "boolean"
        },
        {
         "name": "Period_Tarde",
         "rawType": "bool",
         "type": "boolean"
        },
        {
         "name": "Period_Noche",
         "rawType": "bool",
         "type": "boolean"
        }
       ],
       "conversionMethod": "pd.DataFrame",
       "ref": "cf1f8d28-b376-4728-9f9a-1253174db63e",
       "rows": [
        [
         "0",
         "0.0",
         "-1.3598071336738",
         "-0.0727811733098497",
         "2.53634673796914",
         "1.37815522427443",
         "-0.338320769942518",
         "0.462387777762292",
         "0.239598554061257",
         "0.0986979012610507",
         "0.363786969611213",
         "0.0907941719789316",
         "-0.551599533260813",
         "-0.617800855762348",
         "-0.991389847235408",
         "-0.311169353699879",
         "1.46817697209427",
         "-0.470400525259478",
         "0.207971241929242",
         "0.0257905801985591",
         "0.403992960255733",
         "0.251412098239705",
         "-0.018306777944153",
         "0.277837575558899",
         "-0.110473910188767",
         "0.0669280749146731",
         "0.128539358273528",
         "-0.189114843888824",
         "0.133558376740387",
         "-0.0210530534538215",
         "149.62",
         "0",
         "5.014760108673205",
         "0.0",
         "Madrugada",
         "0.0989683586638828",
         "-3.448942387760709",
         "-0.18459829151000393",
         "0.09682636668200041",
         "0.0432520374695913",
         "3.20954826739755",
         "True",
         "False",
         "False",
         "False"
        ],
        [
         "1",
         "0.0",
         "1.19185711131486",
         "0.26615071205963",
         "0.16648011335321",
         "0.448154078460911",
         "0.0600176492822243",
         "-0.0823608088155687",
         "-0.0788029833323113",
         "0.0851016549148104",
         "-0.255425128109186",
         "-0.166974414004614",
         "1.61272666105479",
         "1.06523531137287",
         "0.48909501589608",
         "-0.143772296441519",
         "0.635558093258208",
         "0.463917041022171",
         "-0.114804663102346",
         "-0.183361270123994",
         "-0.145783041325259",
         "-0.0690831352230203",
         "-0.225775248033138",
         "-0.638671952771851",
         "0.101288021253234",
         "-0.339846475529127",
         "0.167170404418143",
         "0.125894532368176",
         "-0.0089830991432281",
         "0.0147241691924927",
         "2.69",
         "0",
         "1.3056264580524357",
         "0.0",
         "Madrugada",
         "0.31721361884978366",
         "0.1984205069925273",
         "0.04430880071272476",
         "0.02067047322406802",
         "0.013180110670043163",
         "1.3128287777658822",
         "True",
         "False",
         "False",
         "False"
        ],
        [
         "2",
         "1.0",
         "-1.35835406159823",
         "-1.34016307473609",
         "1.77320934263119",
         "0.379779593034328",
         "-0.503198133318193",
         "1.80049938079263",
         "0.791460956450422",
         "0.247675786588991",
         "-1.51465432260583",
         "0.207642865216696",
         "0.624501459424895",
         "0.066083685268831",
         "0.717292731410831",
         "-0.165945922763554",
         "2.34586494901581",
         "-2.89008319444231",
         "1.10996937869599",
         "-0.121359313195888",
         "-2.26185709530414",
         "0.524979725224404",
         "0.247998153469754",
         "0.771679401917229",
         "0.909412262347719",
         "-0.689280956490685",
         "-0.327641833735251",
         "-0.139096571514147",
         "-0.0553527940384261",
         "-0.0597518405929204",
         "378.66",
         "0",
         "5.939276115362396",
         "0.0002777777777777778",
         "Madrugada",
         "1.8204159557717399",
         "-2.4086461126270042",
         "-2.376389684771376",
         "0.027538049281847426",
         "1.2320320216427623",
         "2.6800886360345006",
         "True",
         "False",
         "False",
         "False"
        ],
        [
         "3",
         "1.0",
         "-0.966271711572087",
         "-0.185226008082898",
         "1.79299333957872",
         "-0.863291275036453",
         "-0.0103088796030823",
         "1.24720316752486",
         "0.23760893977178",
         "0.377435874652262",
         "-1.38702406270197",
         "-0.0549519224713749",
         "-0.226487263835401",
         "0.178228225877303",
         "0.507756869957169",
         "-0.28792374549456",
         "-0.631418117709045",
         "-1.0596472454325",
         "-0.684092786345479",
         "1.96577500349538",
         "-1.2326219700892",
         "-0.208037781160366",
         "-0.108300452035545",
         "0.0052735967825345",
         "-0.190320518742841",
         "-1.17557533186321",
         "0.647376034602038",
         "-0.221928844458407",
         "0.0627228487293033",
         "0.0614576285006353",
         "123.5",
         "0",
         "4.824305715904762",
         "0.0002777777777777778",
         "Madrugada",
         "0.17897865185792708",
         "-1.732518743072082",
         "-0.33210899880939027",
         "0.08290008321961617",
         "0.46798294032992116",
         "2.2199533573886554",
         "True",
         "False",
         "False",
         "False"
        ],
        [
         "4",
         "2.0",
         "-1.15823309349523",
         "0.877736754848451",
         "1.548717846511",
         "0.403033933955121",
         "-0.407193377311653",
         "0.0959214624684256",
         "0.592940745385545",
         "-0.270532677192282",
         "0.817739308235294",
         "0.753074431976354",
         "-0.822842877946363",
         "0.53819555014995",
         "1.3458515932154",
         "-1.11966983471731",
         "0.175121130008994",
         "-0.451449182813529",
         "-0.237033239362776",
         "-0.0381947870352842",
         "0.803486924960175",
         "0.408542360392758",
         "-0.0094306971323291",
         "0.79827849458971",
         "-0.137458079619063",
         "0.141266983824769",
         "-0.206009587619756",
         "0.502292224181569",
         "0.219422229513348",
         "0.215153147499206",
         "69.99",
         "0",
         "4.262539022051294",
         "0.0005555555555555556",
         "Madrugada",
         "-1.0166237568425858",
         "-1.7937762623157065",
         "1.3593665767724468",
         "1.2536605387758881",
         "0.056184756562811064",
         "2.1997034973438807",
         "True",
         "False",
         "False",
         "False"
        ]
       ],
       "shape": {
        "columns": 44,
        "rows": 5
       }
      },
      "text/html": [
       "<div>\n",
       "<style scoped>\n",
       "    .dataframe tbody tr th:only-of-type {\n",
       "        vertical-align: middle;\n",
       "    }\n",
       "\n",
       "    .dataframe tbody tr th {\n",
       "        vertical-align: top;\n",
       "    }\n",
       "\n",
       "    .dataframe thead th {\n",
       "        text-align: right;\n",
       "    }\n",
       "</style>\n",
       "<table border=\"1\" class=\"dataframe\">\n",
       "  <thead>\n",
       "    <tr style=\"text-align: right;\">\n",
       "      <th></th>\n",
       "      <th>Time</th>\n",
       "      <th>V1</th>\n",
       "      <th>V2</th>\n",
       "      <th>V3</th>\n",
       "      <th>V4</th>\n",
       "      <th>V5</th>\n",
       "      <th>V6</th>\n",
       "      <th>V7</th>\n",
       "      <th>V8</th>\n",
       "      <th>V9</th>\n",
       "      <th>...</th>\n",
       "      <th>V1_V2</th>\n",
       "      <th>V1_V3</th>\n",
       "      <th>V2_V3</th>\n",
       "      <th>V14_Sq</th>\n",
       "      <th>V17_Sq</th>\n",
       "      <th>PCA_Dist</th>\n",
       "      <th>Period_Madrugada</th>\n",
       "      <th>Period_Mañana</th>\n",
       "      <th>Period_Tarde</th>\n",
       "      <th>Period_Noche</th>\n",
       "    </tr>\n",
       "  </thead>\n",
       "  <tbody>\n",
       "    <tr>\n",
       "      <th>0</th>\n",
       "      <td>0.0</td>\n",
       "      <td>-1.359807</td>\n",
       "      <td>-0.072781</td>\n",
       "      <td>2.536347</td>\n",
       "      <td>1.378155</td>\n",
       "      <td>-0.338321</td>\n",
       "      <td>0.462388</td>\n",
       "      <td>0.239599</td>\n",
       "      <td>0.098698</td>\n",
       "      <td>0.363787</td>\n",
       "      <td>...</td>\n",
       "      <td>0.098968</td>\n",
       "      <td>-3.448942</td>\n",
       "      <td>-0.184598</td>\n",
       "      <td>0.096826</td>\n",
       "      <td>0.043252</td>\n",
       "      <td>3.209548</td>\n",
       "      <td>True</td>\n",
       "      <td>False</td>\n",
       "      <td>False</td>\n",
       "      <td>False</td>\n",
       "    </tr>\n",
       "    <tr>\n",
       "      <th>1</th>\n",
       "      <td>0.0</td>\n",
       "      <td>1.191857</td>\n",
       "      <td>0.266151</td>\n",
       "      <td>0.166480</td>\n",
       "      <td>0.448154</td>\n",
       "      <td>0.060018</td>\n",
       "      <td>-0.082361</td>\n",
       "      <td>-0.078803</td>\n",
       "      <td>0.085102</td>\n",
       "      <td>-0.255425</td>\n",
       "      <td>...</td>\n",
       "      <td>0.317214</td>\n",
       "      <td>0.198421</td>\n",
       "      <td>0.044309</td>\n",
       "      <td>0.020670</td>\n",
       "      <td>0.013180</td>\n",
       "      <td>1.312829</td>\n",
       "      <td>True</td>\n",
       "      <td>False</td>\n",
       "      <td>False</td>\n",
       "      <td>False</td>\n",
       "    </tr>\n",
       "    <tr>\n",
       "      <th>2</th>\n",
       "      <td>1.0</td>\n",
       "      <td>-1.358354</td>\n",
       "      <td>-1.340163</td>\n",
       "      <td>1.773209</td>\n",
       "      <td>0.379780</td>\n",
       "      <td>-0.503198</td>\n",
       "      <td>1.800499</td>\n",
       "      <td>0.791461</td>\n",
       "      <td>0.247676</td>\n",
       "      <td>-1.514654</td>\n",
       "      <td>...</td>\n",
       "      <td>1.820416</td>\n",
       "      <td>-2.408646</td>\n",
       "      <td>-2.376390</td>\n",
       "      <td>0.027538</td>\n",
       "      <td>1.232032</td>\n",
       "      <td>2.680089</td>\n",
       "      <td>True</td>\n",
       "      <td>False</td>\n",
       "      <td>False</td>\n",
       "      <td>False</td>\n",
       "    </tr>\n",
       "    <tr>\n",
       "      <th>3</th>\n",
       "      <td>1.0</td>\n",
       "      <td>-0.966272</td>\n",
       "      <td>-0.185226</td>\n",
       "      <td>1.792993</td>\n",
       "      <td>-0.863291</td>\n",
       "      <td>-0.010309</td>\n",
       "      <td>1.247203</td>\n",
       "      <td>0.237609</td>\n",
       "      <td>0.377436</td>\n",
       "      <td>-1.387024</td>\n",
       "      <td>...</td>\n",
       "      <td>0.178979</td>\n",
       "      <td>-1.732519</td>\n",
       "      <td>-0.332109</td>\n",
       "      <td>0.082900</td>\n",
       "      <td>0.467983</td>\n",
       "      <td>2.219953</td>\n",
       "      <td>True</td>\n",
       "      <td>False</td>\n",
       "      <td>False</td>\n",
       "      <td>False</td>\n",
       "    </tr>\n",
       "    <tr>\n",
       "      <th>4</th>\n",
       "      <td>2.0</td>\n",
       "      <td>-1.158233</td>\n",
       "      <td>0.877737</td>\n",
       "      <td>1.548718</td>\n",
       "      <td>0.403034</td>\n",
       "      <td>-0.407193</td>\n",
       "      <td>0.095921</td>\n",
       "      <td>0.592941</td>\n",
       "      <td>-0.270533</td>\n",
       "      <td>0.817739</td>\n",
       "      <td>...</td>\n",
       "      <td>-1.016624</td>\n",
       "      <td>-1.793776</td>\n",
       "      <td>1.359367</td>\n",
       "      <td>1.253661</td>\n",
       "      <td>0.056185</td>\n",
       "      <td>2.199703</td>\n",
       "      <td>True</td>\n",
       "      <td>False</td>\n",
       "      <td>False</td>\n",
       "      <td>False</td>\n",
       "    </tr>\n",
       "  </tbody>\n",
       "</table>\n",
       "<p>5 rows × 44 columns</p>\n",
       "</div>"
      ],
      "text/plain": [
       "   Time        V1        V2        V3        V4        V5        V6        V7  \\\n",
       "0   0.0 -1.359807 -0.072781  2.536347  1.378155 -0.338321  0.462388  0.239599   \n",
       "1   0.0  1.191857  0.266151  0.166480  0.448154  0.060018 -0.082361 -0.078803   \n",
       "2   1.0 -1.358354 -1.340163  1.773209  0.379780 -0.503198  1.800499  0.791461   \n",
       "3   1.0 -0.966272 -0.185226  1.792993 -0.863291 -0.010309  1.247203  0.237609   \n",
       "4   2.0 -1.158233  0.877737  1.548718  0.403034 -0.407193  0.095921  0.592941   \n",
       "\n",
       "         V8        V9  ...     V1_V2     V1_V3     V2_V3    V14_Sq    V17_Sq  \\\n",
       "0  0.098698  0.363787  ...  0.098968 -3.448942 -0.184598  0.096826  0.043252   \n",
       "1  0.085102 -0.255425  ...  0.317214  0.198421  0.044309  0.020670  0.013180   \n",
       "2  0.247676 -1.514654  ...  1.820416 -2.408646 -2.376390  0.027538  1.232032   \n",
       "3  0.377436 -1.387024  ...  0.178979 -1.732519 -0.332109  0.082900  0.467983   \n",
       "4 -0.270533  0.817739  ... -1.016624 -1.793776  1.359367  1.253661  0.056185   \n",
       "\n",
       "   PCA_Dist  Period_Madrugada  Period_Mañana  Period_Tarde  Period_Noche  \n",
       "0  3.209548              True          False         False         False  \n",
       "1  1.312829              True          False         False         False  \n",
       "2  2.680089              True          False         False         False  \n",
       "3  2.219953              True          False         False         False  \n",
       "4  2.199703              True          False         False         False  \n",
       "\n",
       "[5 rows x 44 columns]"
      ]
     },
     "execution_count": 5,
     "metadata": {},
     "output_type": "execute_result"
    }
   ],
   "source": [
    "# Transformar características\n",
    "print(\"Transformando características...\")\n",
    "df_transformed = transform_features(df)\n",
    "\n",
    "# Mostrar las nuevas características\n",
    "new_features = set(df_transformed.columns) - set(df.columns)\n",
    "print(f\"\\nNuevas características creadas: {new_features}\")\n",
    "\n",
    "# Mostrar las primeras filas del dataframe transformado\n",
    "df_transformed.head()"
   ]
  },
  {
   "cell_type": "code",
   "execution_count": 6,
   "metadata": {},
   "outputs": [
    {
     "data": {
      "image/png": "[encoded data removed]",
      "text/plain": [
       "<Figure size 1200x500 with 2 Axes>"
      ]
     },
     "metadata": {},
     "output_type": "display_data"
    }
   ],
   "source": [
    "# Visualizar distribución de características transformadas\n",
    "if 'Amount_Log' in df_transformed.columns:\n",
    "    plt.figure(figsize=(12, 5))\n",
    "    \n",
    "    plt.subplot(1, 2, 1)\n",
    "    sns.histplot(df['Amount'], bins=50, kde=True)\n",
    "    plt.title('Distribución de Amount Original')\n",
    "    plt.xlabel('Amount')\n",
    "    \n",
    "    plt.subplot(1, 2, 2)\n",
    "    sns.histplot(df_transformed['Amount_Log'], bins=50, kde=True)\n",
    "    plt.title('Distribución de Amount_Log')\n",
    "    plt.xlabel('Amount_Log')\n",
    "    \n",
    "    plt.tight_layout()\n",
    "    plt.show()"
   ]
  },
  {
   "cell_type": "code",
   "execution_count": 7,
   "metadata": {},
   "outputs": [
    {
     "data": {
      "image/png": "[encoded data removed]",
      "text/plain": [
       "<Figure size 1200x500 with 2 Axes>"
      ]
     },
     "metadata": {},
     "output_type": "display_data"
    }
   ],
   "source": [
    "# Visualizar distribución de características temporales si existen\n",
    "if 'Hour' in df_transformed.columns:\n",
    "    plt.figure(figsize=(12, 5))\n",
    "    \n",
    "    plt.subplot(1, 2, 1)\n",
    "    sns.histplot(df_transformed['Hour'], bins=24, kde=True)\n",
    "    plt.title('Distribución de Hour')\n",
    "    plt.xlabel('Hour')\n",
    "    plt.xticks(range(0, 25, 4))\n",
    "    \n",
    "    if 'Day_Period' in df_transformed.columns:\n",
    "        plt.subplot(1, 2, 2)\n",
    "        sns.countplot(x='Day_Period', data=df_transformed)\n",
    "        plt.title('Distribución de Day_Period')\n",
    "        plt.xlabel('Day_Period')\n",
    "    \n",
    "    plt.tight_layout()\n",
    "    plt.show()"
   ]
  },
  {
   "cell_type": "markdown",
   "metadata": {},
   "source": [
    "## 4. Manejo de outliers"
   ]
  },
  {
   "cell_type": "code",
   "execution_count": 8,
   "metadata": {},
   "outputs": [
    {
     "name": "stdout",
     "output_type": "stream",
     "text": [
      "Analizando outliers en Amount...\n"
     ]
    },
    {
     "data": {
      "image/png": "[encoded data removed]",
      "text/plain": [
       "<Figure size 1000x600 with 1 Axes>"
      ]
     },
     "metadata": {},
     "output_type": "display_data"
    }
   ],
   "source": [
    "# Detectar outliers en Amount\n",
    "print(\"Analizando outliers en Amount...\")\n",
    "plt.figure(figsize=(10, 6))\n",
    "sns.boxplot(x=df_transformed['Amount'])\n",
    "plt.title('Boxplot de Amount antes de manejar outliers')\n",
    "plt.xlabel('Amount')\n",
    "plt.show()"
   ]
  },
  {
   "cell_type": "code",
   "execution_count": 9,
   "metadata": {},
   "outputs": [
    {
     "name": "stdout",
     "output_type": "stream",
     "text": [
      "Manejando outliers...\n",
      "Manejando outliers...\n",
      "Columna V1: 6948 outliers (2.45%)\n",
      "  Aplicado recorte con límites: [-4.26, 4.66]\n",
      "Columna V2: 13390 outliers (4.72%)\n",
      "  Aplicado recorte con límites: [-2.70, 2.90]\n",
      "Columna V3: 3306 outliers (1.17%)\n",
      "  Aplicado recorte con límites: [-3.76, 3.90]\n",
      "Columna V4: 11094 outliers (3.91%)\n",
      "  Aplicado recorte con límites: [-3.23, 3.12]\n",
      "Columna V5: 12221 outliers (4.31%)\n",
      "  Aplicado recorte con límites: [-2.64, 2.57]\n",
      "Columna V6: 22886 outliers (8.07%) - No tratados por ser ≥ 5%\n",
      "Columna V7: 8839 outliers (3.12%)\n",
      "  Aplicado recorte con límites: [-2.24, 2.25]\n",
      "Columna V8: 23904 outliers (8.43%) - No tratados por ser ≥ 5%\n",
      "Columna V9: 8199 outliers (2.89%)\n",
      "  Aplicado recorte con límites: [-2.50, 2.46]\n",
      "Columna V10: 9345 outliers (3.29%)\n",
      "  Aplicado recorte con límites: [-2.02, 1.94]\n",
      "Columna V11: 735 outliers (0.26%)\n",
      "  Aplicado recorte con límites: [-3.01, 2.99]\n",
      "Columna V12: 15282 outliers (5.39%) - No tratados por ser ≥ 5%\n",
      "Columna V13: 3362 outliers (1.18%)\n",
      "  Aplicado recorte con límites: [-2.61, 2.63]\n",
      "Columna V14: 14060 outliers (4.96%)\n",
      "  Aplicado recorte con límites: [-1.80, 1.87]\n",
      "Columna V15: 2884 outliers (1.02%)\n",
      "  Aplicado recorte con límites: [-2.43, 2.50]\n",
      "Columna V16: 8180 outliers (2.88%)\n",
      "  Aplicado recorte con límites: [-1.95, 2.01]\n",
      "Columna V17: 7353 outliers (2.59%)\n",
      "  Aplicado recorte con límites: [-1.81, 1.72]\n",
      "Columna V18: 7468 outliers (2.63%)\n",
      "  Aplicado recorte con límites: [-2.00, 2.00]\n",
      "Columna V19: 10150 outliers (3.58%)\n",
      "  Aplicado recorte con límites: [-1.83, 1.83]\n",
      "Columna V20: 27553 outliers (9.71%) - No tratados por ser ≥ 5%\n",
      "Columna V21: 14401 outliers (5.08%) - No tratados por ser ≥ 5%\n",
      "Columna V22: 1298 outliers (0.46%)\n",
      "  Aplicado recorte con límites: [-2.15, 2.13]\n",
      "Columna V23: 18467 outliers (6.51%) - No tratados por ser ≥ 5%\n",
      "Columna V24: 4758 outliers (1.68%)\n",
      "  Aplicado recorte con límites: [-1.55, 1.63]\n",
      "Columna V25: 5333 outliers (1.88%)\n",
      "  Aplicado recorte con límites: [-1.32, 1.35]\n",
      "Columna V26: 5665 outliers (2.00%)\n",
      "  Aplicado recorte con límites: [-1.18, 1.09]\n",
      "Columna V27: 38799 outliers (13.67%) - No tratados por ser ≥ 5%\n",
      "Columna V28: 30094 outliers (10.61%) - No tratados por ser ≥ 5%\n",
      "Columna Amount: 31685 outliers (11.17%) - No tratados por ser ≥ 5%\n",
      "Columna Amount_Log: 236 outliers (0.08%)\n",
      "  Aplicado recorte con límites: [-1.83, 8.08]\n",
      "Columna V1_V2: 35880 outliers (12.65%) - No tratados por ser ≥ 5%\n",
      "Columna V1_V3: 20074 outliers (7.08%) - No tratados por ser ≥ 5%\n",
      "Columna V2_V3: 31305 outliers (11.03%) - No tratados por ser ≥ 5%\n",
      "Columna V14_Sq: 32561 outliers (11.48%) - No tratados por ser ≥ 5%\n",
      "Columna V17_Sq: 24084 outliers (8.49%) - No tratados por ser ≥ 5%\n",
      "Columna PCA_Dist: 14679 outliers (5.17%) - No tratados por ser ≥ 5%\n",
      "Función handle_outliers ejecutada en 0.63 segundos\n"
     ]
    },
    {
     "data": {
      "image/png": "[encoded data removed]",
      "text/plain": [
       "<Figure size 1000x600 with 1 Axes>"
      ]
     },
     "metadata": {},
     "output_type": "display_data"
    },
    {
     "name": "stdout",
     "output_type": "stream",
     "text": [
      "\n",
      "Dimensiones después de manejar outliers: (283726, 44)\n"
     ]
    }
   ],
   "source": [
    "# Manejar outliers\n",
    "print(\"Manejando outliers...\")\n",
    "df_no_outliers = handle_outliers(df_transformed)\n",
    "\n",
    "# Verificar cambios en la distribución después de manejar outliers\n",
    "plt.figure(figsize=(10, 6))\n",
    "sns.boxplot(x=df_no_outliers['Amount'])\n",
    "plt.title('Boxplot de Amount después de manejar outliers')\n",
    "plt.xlabel('Amount')\n",
    "plt.show()\n",
    "\n",
    "print(f\"\\nDimensiones después de manejar outliers: {df_no_outliers.shape}\")"
   ]
  },
  {
   "cell_type": "markdown",
   "metadata": {},
   "source": [
    "## 5. División de datos en conjuntos de entrenamiento y prueba"
   ]
  },
  {
   "cell_type": "code",
   "execution_count": 10,
   "metadata": {},
   "outputs": [
    {
     "name": "stdout",
     "output_type": "stream",
     "text": [
      "Dividiendo datos en conjuntos de entrenamiento y prueba...\n",
      "Dividiendo datos en conjuntos de entrenamiento (80%) y prueba (20%)...\n",
      "X_train: 226980 muestras, 43 características\n",
      "X_test: 56746 muestras, 43 características\n",
      "Distribución de clases en conjunto de entrenamiento:\n",
      "  Clase 0: 99.83%\n",
      "  Clase 1: 0.17%\n",
      "Distribución de clases en conjunto de prueba:\n",
      "  Clase 0: 99.83%\n",
      "  Clase 1: 0.17%\n",
      "Función split_data ejecutada en 0.23 segundos\n",
      "\n",
      "Dimensiones de X_train: (226980, 43)\n",
      "Dimensiones de X_test: (56746, 43)\n",
      "Dimensiones de y_train: (226980,)\n",
      "Dimensiones de y_test: (56746,)\n"
     ]
    }
   ],
   "source": [
    "# Dividir datos en conjuntos de entrenamiento y prueba\n",
    "print(\"Dividiendo datos en conjuntos de entrenamiento y prueba...\")\n",
    "X_train, X_test, y_train, y_test = split_data(df_no_outliers)\n",
    "\n",
    "print(f\"\\nDimensiones de X_train: {X_train.shape}\")\n",
    "print(f\"Dimensiones de X_test: {X_test.shape}\")\n",
    "print(f\"Dimensiones de y_train: {y_train.shape}\")\n",
    "print(f\"Dimensiones de y_test: {y_test.shape}\")"
   ]
  },
  {
   "cell_type": "code",
   "execution_count": 11,
   "metadata": {},
   "outputs": [
    {
     "name": "stdout",
     "output_type": "stream",
     "text": [
      "Distribución de clases en conjunto de entrenamiento:\n",
      "  Clase 0: 99.83%\n",
      "  Clase 1: 0.17%\n",
      "\n",
      "Distribución de clases en conjunto de prueba:\n",
      "  Clase 0: 99.83%\n",
      "  Clase 1: 0.17%\n"
     ]
    }
   ],
   "source": [
    "# Verificar distribución de clases en conjuntos de entrenamiento y prueba\n",
    "train_class_dist = pd.Series(y_train).value_counts(normalize=True) * 100\n",
    "test_class_dist = pd.Series(y_test).value_counts(normalize=True) * 100\n",
    "\n",
    "print(\"Distribución de clases en conjunto de entrenamiento:\")\n",
    "for cls, pct in train_class_dist.items():\n",
    "    print(f\"  Clase {cls}: {pct:.2f}%\")\n",
    "\n",
    "print(\"\\nDistribución de clases en conjunto de prueba:\")\n",
    "for cls, pct in test_class_dist.items():\n",
    "    print(f\"  Clase {cls}: {pct:.2f}%\")"
   ]
  },
  {
   "cell_type": "markdown",
   "metadata": {},
   "source": [
    "## 6. Balanceo de clases"
   ]
  },
  {
   "cell_type": "code",
   "execution_count": 12,
   "metadata": {},
   "outputs": [
    {
     "name": "stdout",
     "output_type": "stream",
     "text": [
      "Balanceando clases en conjunto de entrenamiento...\n",
      "Balanceando clases con SMOTE...\n",
      "Distribución original:\n",
      "  Clase 0: 226602 (99.83%)\n",
      "  Clase 1: 378 (0.17%)\n",
      "Detectadas 1 columnas categóricas: ['Day_Period']\n",
      "Aplicando one-hot encoding a columnas categóricas antes de SMOTE...\n"
     ]
    },
    {
     "name": "stderr",
     "output_type": "stream",
     "text": [
      "  File \"C:\\Users\\furio\\AppData\\Local\\Packages\\PythonSoftwareFoundation.Python.3.12_qbz5n2kfra8p0\\LocalCache\\local-packages\\Python312\\site-packages\\joblib\\externals\\loky\\backend\\context.py\", line 257, in _count_physical_cores\n",
      "    cpu_info = subprocess.run(\n",
      "               ^^^^^^^^^^^^^^^\n",
      "  File \"C:\\Program Files\\WindowsApps\\PythonSoftwareFoundation.Python.3.12_3.12.2800.0_x64__qbz5n2kfra8p0\\Lib\\subprocess.py\", line 548, in run\n",
      "    with Popen(*popenargs, **kwargs) as process:\n",
      "         ^^^^^^^^^^^^^^^^^^^^^^^^^^^\n",
      "  File \"C:\\Program Files\\WindowsApps\\PythonSoftwareFoundation.Python.3.12_3.12.2800.0_x64__qbz5n2kfra8p0\\Lib\\subprocess.py\", line 1026, in __init__\n",
      "    self._execute_child(args, executable, preexec_fn, close_fds,\n",
      "  File \"C:\\Program Files\\WindowsApps\\PythonSoftwareFoundation.Python.3.12_3.12.2800.0_x64__qbz5n2kfra8p0\\Lib\\subprocess.py\", line 1538, in _execute_child\n",
      "    hp, ht, pid, tid = _winapi.CreateProcess(executable, args,\n",
      "                       ^^^^^^^^^^^^^^^^^^^^^^^^^^^^^^^^^^^^^^^\n"
     ]
    },
    {
     "name": "stdout",
     "output_type": "stream",
     "text": [
      "SMOTE aplicado exitosamente a datos numéricos.\n",
      "Distribución después de SMOTE:\n",
      "  Clase 0: 226602 (50.00%)\n",
      "  Clase 1: 226602 (50.00%)\n",
      "Función balance_classes ejecutada en 0.87 segundos\n",
      "\n",
      "Dimensiones de X_train después de balanceo: (453204, 46)\n",
      "Dimensiones de y_train después de balanceo: (453204,)\n"
     ]
    }
   ],
   "source": [
    "# Balancear clases en conjunto de entrenamiento\n",
    "print(\"Balanceando clases en conjunto de entrenamiento...\")\n",
    "X_train_balanced, y_train_balanced = balance_classes(X_train, y_train)\n",
    "\n",
    "print(f\"\\nDimensiones de X_train después de balanceo: {X_train_balanced.shape}\")\n",
    "print(f\"Dimensiones de y_train después de balanceo: {y_train_balanced.shape}\")"
   ]
  },
  {
   "cell_type": "code",
   "execution_count": 13,
   "metadata": {},
   "outputs": [
    {
     "name": "stdout",
     "output_type": "stream",
     "text": [
      "Distribución de clases después del balanceo:\n",
      "  Clase 0: 50.00%\n",
      "  Clase 1: 50.00%\n"
     ]
    },
    {
     "data": {
      "image/png": "[encoded data removed]",
      "text/plain": [
       "<Figure size 1200x500 with 2 Axes>"
      ]
     },
     "metadata": {},
     "output_type": "display_data"
    }
   ],
   "source": [
    "# Verificar distribución de clases después del balanceo\n",
    "balanced_class_dist = pd.Series(y_train_balanced).value_counts(normalize=True) * 100\n",
    "\n",
    "print(\"Distribución de clases después del balanceo:\")\n",
    "for cls, pct in balanced_class_dist.items():\n",
    "    print(f\"  Clase {cls}: {pct:.2f}%\")\n",
    "\n",
    "# Visualizar distribución de clases antes y después del balanceo\n",
    "plt.figure(figsize=(12, 5))\n",
    "\n",
    "plt.subplot(1, 2, 1)\n",
    "sns.countplot(x=y_train)\n",
    "plt.title('Distribución de Clases Antes del Balanceo')\n",
    "plt.xlabel('Clase')\n",
    "plt.ylabel('Conteo')\n",
    "\n",
    "plt.subplot(1, 2, 2)\n",
    "sns.countplot(x=y_train_balanced)\n",
    "plt.title('Distribución de Clases Después del Balanceo')\n",
    "plt.xlabel('Clase')\n",
    "plt.ylabel('Conteo')\n",
    "\n",
    "plt.tight_layout()\n",
    "plt.show()"
   ]
  },
  {
   "cell_type": "markdown",
   "metadata": {},
   "source": [
    "## 7. Escalado de características"
   ]
  },
  {
   "cell_type": "code",
   "execution_count": 14,
   "metadata": {},
   "outputs": [
    {
     "name": "stdout",
     "output_type": "stream",
     "text": [
      "Escalando características...\n",
      "Escalando características con standard scaler...\n",
      "Detectada discrepancia de columnas entre conjuntos de entrenamiento y prueba.\n",
      "Columnas solo en entrenamiento: {'Day_Period_Mañana', 'Day_Period_Madrugada', 'Day_Period_Noche', 'Day_Period_Tarde'}\n",
      "Columnas solo en prueba: {'Day_Period'}\n",
      "Usando solo las 42 columnas comunes para escalar.\n",
      "Características escaladas. Rango típico: [-3.0, 3.0]\n",
      "Función scale_features ejecutada en 1.45 segundos\n",
      "\n",
      "Dimensiones de X_train_scaled: (453204, 42)\n",
      "Dimensiones de X_test_scaled: (56746, 42)\n"
     ]
    }
   ],
   "source": [
    "# Escalar características\n",
    "print(\"Escalando características...\")\n",
    "X_train_scaled, X_test_scaled, scaler = scale_features(X_train_balanced, X_test)\n",
    "\n",
    "print(f\"\\nDimensiones de X_train_scaled: {X_train_scaled.shape}\")\n",
    "print(f\"Dimensiones de X_test_scaled: {X_test_scaled.shape}\")"
   ]
  },
  {
   "cell_type": "code",
   "execution_count": 15,
   "metadata": {},
   "outputs": [
    {
     "data": {
      "image/png": "[encoded data removed]",
      "text/plain": [
       "<Figure size 1500x1000 with 8 Axes>"
      ]
     },
     "metadata": {},
     "output_type": "display_data"
    }
   ],
   "source": [
    "# Visualizar efecto del escalado en algunas características\n",
    "features_to_plot = ['Amount', 'V1', 'V2', 'V3']\n",
    "n_features = len(features_to_plot)\n",
    "\n",
    "plt.figure(figsize=(15, 10))\n",
    "for i, feature in enumerate(features_to_plot):\n",
    "    feature_idx = X_train_balanced.columns.get_loc(feature)\n",
    "    \n",
    "    plt.subplot(2, n_features, i+1)\n",
    "    sns.histplot(X_train_balanced[feature], bins=50, kde=True)\n",
    "    plt.title(f'{feature} Antes del Escalado')\n",
    "    \n",
    "    plt.subplot(2, n_features, i+n_features+1)\n",
    "    sns.histplot(X_train_scaled[:, feature_idx], bins=50, kde=True)\n",
    "    plt.title(f'{feature} Después del Escalado')\n",
    "\n",
    "plt.tight_layout()\n",
    "plt.show()"
   ]
  },
  {
   "cell_type": "markdown",
   "metadata": {},
   "source": [
    "## 8. Guardado de datos procesados"
   ]
  },
  {
   "cell_type": "code",
   "execution_count": 16,
   "metadata": {},
   "outputs": [
    {
     "name": "stdout",
     "output_type": "stream",
     "text": [
      "Guardando datos procesados...\n",
      "Guardando datos procesados...\n",
      "Datos guardados en c:\\Projects\\Credit_fraud\\data\\processed\n",
      "X_train guardado en c:\\Projects\\Credit_fraud\\data\\processed\\X_train.csv\n",
      "X_test guardado en c:\\Projects\\Credit_fraud\\data\\processed\\X_test.csv\n",
      "y_train guardado en c:\\Projects\\Credit_fraud\\data\\processed\\y_train.csv\n",
      "y_test guardado en c:\\Projects\\Credit_fraud\\data\\processed\\y_test.csv\n",
      "Scaler guardado en c:\\Projects\\Credit_fraud\\data\\processed\\standard_scaler.pkl\n",
      "Metadatos guardados en c:\\Projects\\Credit_fraud\\data\\processed\\metadata.txt\n",
      "Función save_processed_data ejecutada en 24.94 segundos\n",
      "\n",
      "Datos guardados en c:\\Projects\\Credit_fraud\\data\\processed\n",
      "X_train guardado en c:\\Projects\\Credit_fraud\\data\\processed\\X_train.csv\n",
      "X_test guardado en c:\\Projects\\Credit_fraud\\data\\processed\\X_test.csv\n",
      "y_train guardado en c:\\Projects\\Credit_fraud\\data\\processed\\y_train.csv\n",
      "y_test guardado en c:\\Projects\\Credit_fraud\\data\\processed\\y_test.csv\n",
      "Scaler guardado en c:\\Projects\\Credit_fraud\\data\\processed\\standard_scaler.pkl\n"
     ]
    }
   ],
   "source": [
    "# Obtener las columnas comunes entre X_train_balanced y X_test\n",
    "if isinstance(X_train_balanced, pd.DataFrame) and isinstance(X_test, pd.DataFrame):\n",
    "    train_cols = set(X_train_balanced.columns)\n",
    "    test_cols = set(X_test.columns)\n",
    "    common_cols = list(train_cols.intersection(test_cols))\n",
    "    feature_names_used = common_cols\n",
    "else:\n",
    "    # Si ya son arrays NumPy, necesitamos crear nombres genéricos\n",
    "    feature_names_used = [f'feature_{i}' for i in range(X_train_scaled.shape[1])]\n",
    "\n",
    "# Guardar datos procesados\n",
    "print(\"Guardando datos procesados...\")\n",
    "save_processed_data(X_train_scaled, X_test_scaled, y_train_balanced, y_test, scaler, feature_names_used)\n",
    "\n",
    "print(f\"\\nDatos guardados en {PROCESSED_DATA_DIR}\")\n",
    "print(f\"X_train guardado en {X_TRAIN_FILE}\")\n",
    "print(f\"X_test guardado en {X_TEST_FILE}\")\n",
    "print(f\"y_train guardado en {Y_TRAIN_FILE}\")\n",
    "print(f\"y_test guardado en {Y_TEST_FILE}\")\n",
    "print(f\"Scaler guardado en {SCALER_FILE}\")"
   ]
  },
  {
   "cell_type": "markdown",
   "metadata": {},
   "source": [
    "## Resumen del Preprocesamiento\n",
    "\n",
    "En este notebook, hemos realizado los siguientes pasos de preprocesamiento:\n",
    "\n",
    "1. **Carga de datos**: Cargamos el dataset de transacciones de tarjetas de crédito.\n",
    "\n",
    "2. **Limpieza de datos**: Verificamos y manejamos valores faltantes, infinitos y duplicados.\n",
    "\n",
    "3. **Transformación de características**: Aplicamos transformaciones como logaritmo a `Amount` y convertimos `Time` a características temporales más informativas.\n",
    "\n",
    "4. **Manejo de outliers**: Detectamos y tratamos outliers en las características numéricas.\n",
    "\n",
    "5. **División de datos**: Separamos los datos en conjuntos de entrenamiento y prueba, manteniendo la proporción de clases.\n",
    "\n",
    "6. **Balanceo de clases**: Aplicamos SMOTE para balancear las clases en el conjunto de entrenamiento.\n",
    "\n",
    "7. **Escalado de características**: Aplicamos escalado estándar a las características para mejorar el rendimiento de los algoritmos.\n",
    "\n",
    "8. **Guardado de datos**: Guardamos los datos procesados para su uso en el entrenamiento y evaluación de modelos.\n",
    "\n",
    "Los datos están ahora listos para ser utilizados en el entrenamiento de modelos de machine learning para la detección de fraude."
   ]
  }
 ],
 "metadata": {
  "kernelspec": {
   "display_name": "Python 3",
   "language": "python",
   "name": "python3"
  },
  "language_info": {
   "codemirror_mode": {
    "name": "ipython",
    "version": 3
   },
   "file_extension": ".py",
   "mimetype": "text/x-python",
   "name": "python",
   "nbconvert_exporter": "python",
   "pygments_lexer": "ipython3",
   "version": "3.12.10"
  }
 },
 "nbformat": 4,
 "nbformat_minor": 4
}
